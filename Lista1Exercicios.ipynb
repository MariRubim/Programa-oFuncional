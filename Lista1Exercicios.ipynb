{
  "nbformat": 4,
  "nbformat_minor": 0,
  "metadata": {
    "colab": {
      "name": "Lista1Exercicios.ipynb",
      "provenance": [],
      "collapsed_sections": [],
      "authorship_tag": "ABX9TyNAR7bkVdyxOYWS9IZNltYJ",
      "include_colab_link": true
    },
    "kernelspec": {
      "name": "python3",
      "display_name": "Python 3"
    },
    "language_info": {
      "name": "python"
    }
  },
  "cells": [
    {
      "cell_type": "markdown",
      "metadata": {
        "id": "view-in-github",
        "colab_type": "text"
      },
      "source": [
        "<a href=\"https://colab.research.google.com/github/MariRubim/ProgramacaoFuncional/blob/main/Lista1Exercicios.ipynb\" target=\"_parent\"><img src=\"https://colab.research.google.com/assets/colab-badge.svg\" alt=\"Open In Colab\"/></a>"
      ]
    },
    {
      "cell_type": "markdown",
      "source": [
        "### **1)** Crie uma variável String e a exiba no sentido inverso "
      ],
      "metadata": {
        "id": "ratFdU1gFdzo"
      }
    },
    {
      "cell_type": "code",
      "execution_count": 3,
      "metadata": {
        "colab": {
          "base_uri": "https://localhost:8080/"
        },
        "id": "aWOFPzWDDN2T",
        "outputId": "51ed204d-db08-4203-f2a9-c189ca87a944"
      },
      "outputs": [
        {
          "output_type": "stream",
          "name": "stdout",
          "text": [
            "anairaM\n"
          ]
        }
      ],
      "source": [
        "nome = \"Mariana\"\n",
        "\n",
        "print(nome[::-1])\n"
      ]
    },
    {
      "cell_type": "markdown",
      "source": [
        "### **2)** Verifique se na frase “Python é uma linguagem excelente” existe as expressões:\n",
        "'py’, 'ing’, ‘zzz’"
      ],
      "metadata": {
        "id": "dmkKhMfAFvwp"
      }
    },
    {
      "cell_type": "code",
      "source": [
        "frase = \"Python é uma linguagem excelente\"\n",
        "\n",
        "print('py' in frase)\n",
        "print('ing' in frase)\n",
        "print('zzz' in frase)"
      ],
      "metadata": {
        "colab": {
          "base_uri": "https://localhost:8080/"
        },
        "id": "fg1egu60F7FR",
        "outputId": "6d316e2b-429d-4c0d-f68c-b22c79af4f77"
      },
      "execution_count": 5,
      "outputs": [
        {
          "output_type": "stream",
          "name": "stdout",
          "text": [
            "False\n",
            "True\n",
            "False\n"
          ]
        }
      ]
    },
    {
      "cell_type": "markdown",
      "source": [
        "### **3)** Para:\n",
        "salario = 3450.45\n",
        "\n",
        "despesas = 2456.2\n",
        "\n",
        "Calcule o percentual do salário comprometido com as despesas"
      ],
      "metadata": {
        "id": "Lv6xq17sGsXW"
      }
    },
    {
      "cell_type": "code",
      "source": [
        "salario = 3450.45\n",
        "despesas = 2456.2\n",
        "\n",
        "print(despesas * 100 / salario)"
      ],
      "metadata": {
        "colab": {
          "base_uri": "https://localhost:8080/"
        },
        "id": "pRVNv-aqGYA1",
        "outputId": "7765c823-8755-450c-e83b-71a1979a874e"
      },
      "execution_count": 8,
      "outputs": [
        {
          "output_type": "stream",
          "name": "stdout",
          "text": [
            "71.1849179092582\n"
          ]
        }
      ]
    },
    {
      "cell_type": "markdown",
      "source": [
        ""
      ],
      "metadata": {
        "id": "dAaJKNO-IRrP"
      }
    },
    {
      "cell_type": "markdown",
      "source": [
        "### **4)** Crie um programa em Python capaz de receber dois número x e y e que imprima na tela o resultado da soma destes números"
      ],
      "metadata": {
        "id": "vcD5_pLNIRyl"
      }
    },
    {
      "cell_type": "code",
      "source": [
        "a = int(input('Digite o valor: '))\n",
        "type(a)\n",
        "\n",
        "## todo input é lido como uma string, então é necessário converter a variável para int\n",
        "\n",
        "b = int(input('Digite o valor: '))\n",
        "type(b)\n",
        "\n",
        "print(a + b) "
      ],
      "metadata": {
        "colab": {
          "base_uri": "https://localhost:8080/"
        },
        "id": "bzy_FcVJIwyH",
        "outputId": "8ffc63e7-25ef-4f58-86c1-a3601842e193"
      },
      "execution_count": 9,
      "outputs": [
        {
          "output_type": "stream",
          "name": "stdout",
          "text": [
            "Digite o valor: 2\n",
            "Digite o valor: 3\n",
            "5\n"
          ]
        }
      ]
    },
    {
      "cell_type": "markdown",
      "source": [
        "### **5)** Faça uma rotina que receba a idade de um pessoa e determine se ela é:\n",
        "Menor de idade (<18) \n",
        "\n",
        "Adulto (entre 18 e 65)\n",
        "\n",
        "Melhor idade (66 e 100)\n",
        "\n",
        "Centenário > 100"
      ],
      "metadata": {
        "id": "EEveHHRtI1yw"
      }
    },
    {
      "cell_type": "code",
      "source": [
        "a = int(input('Digite sua idade: '))\n",
        "type(a)\n",
        "\n",
        "if a < 18:\n",
        "  print('Menor de idade')\n",
        "elif a >= 18 and a <= 65:\n",
        "    print('Adulto')\n",
        "elif a >= 66 and a <= 100:\n",
        "    print('Melhor idade')\n",
        "elif a >100:\n",
        "    print('Centenário')\n",
        "\n",
        "## pode fazer usando o \"range\" --> idade in range(66, 101): print(\"Melhor idade\")"
      ],
      "metadata": {
        "colab": {
          "base_uri": "https://localhost:8080/"
        },
        "id": "XlPY9Gy4JFQM",
        "outputId": "7833ecc3-ad88-4baa-eab8-0428e3ae3ee0"
      },
      "execution_count": 13,
      "outputs": [
        {
          "output_type": "stream",
          "name": "stdout",
          "text": [
            "Digite sua idade: 101\n",
            "Centenário\n"
          ]
        }
      ]
    },
    {
      "cell_type": "markdown",
      "source": [
        "### **6)** Exiba a palavra 'paralelepípedo’ com suas letras separadas por virgulas -> p,a,r,a,l,e,l,e,p,í,p,e,d,o,"
      ],
      "metadata": {
        "id": "gWhh7x2PKjn6"
      }
    },
    {
      "cell_type": "code",
      "source": [
        "palavra = 'paralelepípedo'\n",
        "for letras in palavra:\n",
        "  print(f'{letras}, ', end=\"\")"
      ],
      "metadata": {
        "colab": {
          "base_uri": "https://localhost:8080/"
        },
        "id": "lhl16e0sKf0M",
        "outputId": "f90872ff-443a-428a-f897-387f1a5afff6"
      },
      "execution_count": 19,
      "outputs": [
        {
          "output_type": "stream",
          "name": "stdout",
          "text": [
            "p, a, r, a, l, e, l, e, p, í, p, e, d, o, "
          ]
        }
      ]
    },
    {
      "cell_type": "markdown",
      "source": [
        "### **7)** Exiba cada nome em uma linha diferente -> [Danieli', ‘André', ‘Marcelo', ‘Ana Paula’] "
      ],
      "metadata": {
        "id": "ODG0vRjbqCtf"
      }
    },
    {
      "cell_type": "code",
      "source": [
        "listanome = ['Danieli', 'André', 'Marcelo', 'Ana Paula']\n",
        "\n",
        "for nome in listanome:\n",
        "  print(nome)"
      ],
      "metadata": {
        "colab": {
          "base_uri": "https://localhost:8080/"
        },
        "id": "UXFntMhUqIwc",
        "outputId": "5f20d61a-4b3f-4dbe-80d9-cfec2dd82db1"
      },
      "execution_count": 2,
      "outputs": [
        {
          "output_type": "stream",
          "name": "stdout",
          "text": [
            "Danieli\n",
            "André\n",
            "Marcelo\n",
            "Ana Paula\n"
          ]
        }
      ]
    },
    {
      "cell_type": "markdown",
      "source": [
        "### **8)** Sorteie um numero de 0– 9 u6lizando a função randint(0, 9) e solicite ao usuário inserir um numero até o mesmo acertar o valor sorteado \n",
        "randomicamente, ao acertar o valor exiba a frase “Número secreto x foi encontrado!” e pare o processamento."
      ],
      "metadata": {
        "id": "RjbxuWTiqJWH"
      }
    },
    {
      "cell_type": "code",
      "source": [
        "from random import randint\n",
        "\n",
        "sorteio = randint(0,9)\n",
        "resposta = int(input('Digite um valor: '))\n",
        "\n",
        "while resposta != sorteio:\n",
        "  resposta = int(input('Digite um valor: '))\n",
        "\n",
        "print(f'O numero secreto {sorteio} foi encontrado')"
      ],
      "metadata": {
        "colab": {
          "base_uri": "https://localhost:8080/"
        },
        "id": "HNkPBQFvshDv",
        "outputId": "3f829ecb-a3d9-430e-9b2c-045ec012a1c2"
      },
      "execution_count": 3,
      "outputs": [
        {
          "output_type": "stream",
          "name": "stdout",
          "text": [
            "Digite um valor: 1\n",
            "Digite um valor: 1\n",
            "Digite um valor: 2\n",
            "O numero secreto 2 foi encontrado\n"
          ]
        }
      ]
    },
    {
      "cell_type": "markdown",
      "source": [
        "### **9)** Receba um número de entrada e e faça uma sequência de Fibonacci de 10 posições"
      ],
      "metadata": {
        "id": "GIAqgze1q8Ex"
      }
    },
    {
      "cell_type": "code",
      "source": [
        "x = int(input('Digite um valor: '))\n",
        "lista = []\n",
        "lista.append(0)\n",
        "lista.append(1)\n",
        "\n",
        "#item atual = item atual -1 + item atual - 2\n",
        "for number in range(2, 9+x):\n",
        "  lista.append(lista[number - 1] + lista[number - 2])\n",
        "\n",
        "print(lista[x-1:])"
      ],
      "metadata": {
        "colab": {
          "base_uri": "https://localhost:8080/"
        },
        "id": "BfL5fkZmrIwd",
        "outputId": "82c2b3ec-252e-44aa-a0c6-4c9117b87a45"
      },
      "execution_count": 4,
      "outputs": [
        {
          "output_type": "stream",
          "name": "stdout",
          "text": [
            "Digite um valor: 2\n",
            "[1, 1, 2, 3, 5, 8, 13, 21, 34, 55]\n"
          ]
        }
      ]
    }
  ]
}