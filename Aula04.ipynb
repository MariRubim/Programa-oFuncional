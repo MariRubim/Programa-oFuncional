{
  "nbformat": 4,
  "nbformat_minor": 0,
  "metadata": {
    "colab": {
      "name": "Aula04.ipynb",
      "provenance": [],
      "collapsed_sections": [],
      "authorship_tag": "ABX9TyNqVNbc9fq0eXsNmD8NuhTZ",
      "include_colab_link": true
    },
    "kernelspec": {
      "name": "python3",
      "display_name": "Python 3"
    },
    "language_info": {
      "name": "python"
    }
  },
  "cells": [
    {
      "cell_type": "markdown",
      "metadata": {
        "id": "view-in-github",
        "colab_type": "text"
      },
      "source": [
        "<a href=\"https://colab.research.google.com/github/MariRubim/ProgramacaoFuncional/blob/main/Aula04.ipynb\" target=\"_parent\"><img src=\"https://colab.research.google.com/assets/colab-badge.svg\" alt=\"Open In Colab\"/></a>"
      ]
    },
    {
      "cell_type": "code",
      "execution_count": null,
      "metadata": {
        "id": "dKveRpta0ZP9"
      },
      "outputs": [],
      "source": [
        "public class Pessoa{\n",
        "    \n",
        "    int idade;\n",
        "    String nome;\n",
        "\n",
        "    Pessoa(int idade, String nome){ ##essas variáveis vão morrer depois de rodarem, pois são parâmetros\n",
        "        this.idade = idade;\n",
        "        this.nome = nome;\n",
        "    }\n",
        "}"
      ]
    },
    {
      "cell_type": "code",
      "source": [
        "class Pessoa:\n",
        "  def __init__(self, altura, cor_cabelo, peso): ##init toda vez que estabelecer o método construtor de uma classe\n",
        "    self.altura = altura\n",
        "    self.cor_cabelo = cor_cabelo\n",
        "    self.peso = peso\n",
        "\n",
        "  def falar(self, frase):\n",
        "    return frase\n",
        "\n",
        "  def andar(self, velocidade=5): ##estabelece um valor default no velocidade, para assim determinar que só serão aceitos valores inteiros\n",
        "    velocidade_real = velocidade - 0.01*self.peso\n",
        "    return velocidade_real\n",
        "\n",
        "class Professor(Pessoa): ##professor está herdando a classe pessoa\n",
        "  def __init__(self, altura, cor_cabelo, peso, salario):\n",
        "    super().__init__(altura, cor_cabelo, peso)\n",
        "    self.salario = salario\n",
        "\n",
        "  def falar(self, frase):\n",
        "    return frase + 'Vai cair na prova!' ##polimorfia, você não está sobrecarrgeando os métodos, \n",
        "    ##pois os métodos estão em classes diferentes, mas está sobreescrevendo um comportamento que foi estabelecido pela classe mãe e adaptando para a classe que recebeu a herança\n",
        "\n",
        "def main():\n",
        "  pessoaObj = Pessoa(1.8, 'castanho', 95.0)\n",
        "  print(pessoaObj.falar('Python é legal'))\n",
        "  print(pessoaObj.andar(7))\n",
        "\n",
        "  professorObj = Professor(1.9, 'loiro', 89.0, 2000.0)\n",
        "  print(professorObj.falar('Python é chato'))\n",
        "  print(professorObj.andar(9))\n",
        "\n",
        "if __name__ == '__main__': ##para sinalizar que a programação funcione orientada a objeto\n",
        "  main()\n",
        "\n"
      ],
      "metadata": {
        "colab": {
          "base_uri": "https://localhost:8080/"
        },
        "id": "1nDwnuZuAy8o",
        "outputId": "bf2d8db2-916b-4326-a714-273670a17f88"
      },
      "execution_count": 6,
      "outputs": [
        {
          "output_type": "stream",
          "name": "stdout",
          "text": [
            "Python é legal\n",
            "6.05\n",
            "Python é chato\n",
            "8.11\n"
          ]
        }
      ]
    }
  ]
}