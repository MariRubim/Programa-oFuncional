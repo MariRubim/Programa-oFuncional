{
  "nbformat": 4,
  "nbformat_minor": 0,
  "metadata": {
    "colab": {
      "name": "Aula01Phyton.ipynb",
      "provenance": [],
      "collapsed_sections": [],
      "authorship_tag": "ABX9TyM3M4H5KWeTlcTmlvXiutkC",
      "include_colab_link": true
    },
    "kernelspec": {
      "name": "python3",
      "display_name": "Python 3"
    },
    "language_info": {
      "name": "python"
    }
  },
  "cells": [
    {
      "cell_type": "markdown",
      "metadata": {
        "id": "view-in-github",
        "colab_type": "text"
      },
      "source": [
        "<a href=\"https://colab.research.google.com/github/MariRubim/Programa-oFuncional/blob/main/Aula01Phyton.ipynb\" target=\"_parent\"><img src=\"https://colab.research.google.com/assets/colab-badge.svg\" alt=\"Open In Colab\"/></a>"
      ]
    },
    {
      "cell_type": "code",
      "execution_count": null,
      "metadata": {
        "colab": {
          "base_uri": "https://localhost:8080/"
        },
        "id": "mn6i3z9i4feg",
        "outputId": "20c21d08-52d8-404b-bbf8-002e5cb0a890"
      },
      "outputs": [
        {
          "output_type": "stream",
          "name": "stdout",
          "text": [
            "5\n",
            "-3\n",
            "10.6\n",
            "3.1333333333333333\n",
            "1\n",
            "256\n",
            "3\n",
            "9.0\n",
            "9.0\n"
          ]
        }
      ],
      "source": [
        "# operadores \n",
        "print(2+3)\n",
        "print(4 - 7)\n",
        "print(2 * 5.3)\n",
        "print(9.4 / 3)\n",
        "print(10%3)\n",
        "\n",
        "# potência \n",
        "print(2 ** 8)\n",
        "\n",
        "# parte inteira da divisão\n",
        "print(10 // 3)\n",
        "print(81 ** 0.5)\n",
        "print(81 ** (1/2))"
      ]
    },
    {
      "cell_type": "code",
      "source": [
        "a = 2\n",
        "print(type(a))\n",
        "\n",
        "a = True\n",
        "print(type(a))\n",
        "\n",
        "a = 'andre'\n",
        "print(type(a))\n",
        "\n",
        "a = None\n",
        "print(type(a))\n",
        "\n",
        "a = 0\n",
        "print(type(a))\n",
        "\n",
        "a = ''\n",
        "print(type(a))\n"
      ],
      "metadata": {
        "colab": {
          "base_uri": "https://localhost:8080/"
        },
        "id": "-P7kT98V5ZlD",
        "outputId": "4f4ffbc4-76cb-4fb7-82a1-73e73e45ce4c"
      },
      "execution_count": null,
      "outputs": [
        {
          "output_type": "stream",
          "name": "stdout",
          "text": [
            "<class 'int'>\n",
            "<class 'bool'>\n",
            "<class 'str'>\n",
            "<class 'NoneType'>\n",
            "<class 'int'>\n",
            "<class 'str'>\n"
          ]
        }
      ]
    },
    {
      "cell_type": "markdown",
      "source": [
        "# **Tipo** **String**\n"
      ],
      "metadata": {
        "id": "_pmdkZ555-RQ"
      }
    },
    {
      "cell_type": "code",
      "source": [
        "dir(str)\n",
        "\n",
        "nome = 'André Insardi'\n",
        "nome\n",
        "\n",
        "nome[0] ##retornará A de \"André\"\n",
        "nome[3] ##retornará r de \"André\"\n",
        "\n",
        "print(\"André Insardi\" == 'André Insardi')\n",
        "\n",
        "texto = 'Texto entre apostrófes pode ter \"aspas\"'\n",
        "print(texto)\n",
        "\n",
        "doc = \"\"\"textos com multiplas\n",
        "linhas...\"\"\"\n",
        "\n",
        "print(doc)"
      ],
      "metadata": {
        "colab": {
          "base_uri": "https://localhost:8080/"
        },
        "id": "-jczZKTB52EL",
        "outputId": "236faa1a-e6ce-4ce1-9618-0d549ff21e9a"
      },
      "execution_count": null,
      "outputs": [
        {
          "output_type": "stream",
          "name": "stdout",
          "text": [
            "True\n",
            "Texto entre apostrófes pode ter \"aspas\"\n",
            "textos com multiplas\n",
            "linhas...\n"
          ]
        }
      ]
    },
    {
      "cell_type": "markdown",
      "source": [
        "QUANDO:\n",
        " você não usa \"__\" underline 2x a classe não está instanciada, é programação normal~\n",
        "\n",
        " String se comporta como uma lista, você pode acessar qualquer elemento da sua variável a partir do índice (sempre iniciado por 0)\n",
        "\n",
        " O python não se importa com aspas duplas ou sozinha, pra ele é a mesma coisa\n",
        " "
      ],
      "metadata": {
        "id": "UIuozUJs7JDP"
      }
    },
    {
      "cell_type": "code",
      "source": [
        "nome = 'Um nome qualquer'\n",
        "\n",
        "nome[0]\n",
        "nome[6]\n",
        "nome[-3]\n",
        "nome[4:] #não conta os 4 primeiros e vai até o final da string\n",
        "nome[-5:] #seleciona as últimas 5\n",
        "nome[:4] #pega as 4 primeiras, o intervalo é sempre bolinha aberta, então não seleciona o último elemento. O primeiro número está contido e o último não\n",
        "nome[2:5]\n",
        "\n",
        "numero = '1234567890'\n",
        "numero[::] #imprime todos os números\n",
        "numero[::2] #imprime todos os números pulando de dois em dois\n",
        "numero[::3] #imprime todos os números pulando de três em três\n",
        "numero[::-1] #imprime todos os números de trás pra frente\n",
        "numero[3::2] #começa a imprimir no terceiro elemento e depois vai pulando de dois em dois\n",
        "\n"
      ],
      "metadata": {
        "colab": {
          "base_uri": "https://localhost:8080/",
          "height": 36
        },
        "id": "BB1JAPb8-CE8",
        "outputId": "c5f536b6-3044-47fe-94d4-aef0a144f849"
      },
      "execution_count": null,
      "outputs": [
        {
          "output_type": "execute_result",
          "data": {
            "text/plain": [
              "'4680'"
            ],
            "application/vnd.google.colaboratory.intrinsic+json": {
              "type": "string"
            }
          },
          "metadata": {},
          "execution_count": 15
        }
      ]
    },
    {
      "cell_type": "markdown",
      "source": [
        "## Listas"
      ],
      "metadata": {
        "id": "cVzytiF5ikoX"
      }
    },
    {
      "cell_type": "code",
      "source": [
        "lista = []\n",
        "type(lista)\n",
        "\n",
        "len(lista)\n",
        "\n",
        "lista.append(1)\n",
        "lista.append(5)\n",
        "lista\n",
        "\n",
        "lista[0]\n",
        "len(lista)\n",
        "#len significa lenth\n",
        "#na lista do python você tem tipagem dinâmica, então o tipo da variável é determinado por cada célula\n",
        "\n",
        "nova_lista = [1, 5, 'Ana', 'Bia', ['C#', 'Python', 'Node'], 3.14]\n",
        "print(nova_lista)\n",
        "print(nova_lista[3])\n",
        "print(nova_lista[4])\n",
        "print(nova_lista[4][1])\n",
        "print(nova_lista[4][1][3])\n",
        "\n",
        "print(nova_lista)\n",
        "nova_lista.remove(5) #você apaga o elemento 5, se utilizasse colchete apagaria o índice 5\n",
        "print(nova_lista)\n",
        "nova_lista.reverse() #coloca a lista ao contrário\n",
        "print(nova_lista)\n",
        "del nova_lista[2]\n",
        "print(nova_lista)"
      ],
      "metadata": {
        "colab": {
          "base_uri": "https://localhost:8080/"
        },
        "id": "aQN79gEeiu_w",
        "outputId": "678977b2-8a41-4b26-dac5-a937bbbb8d37"
      },
      "execution_count": null,
      "outputs": [
        {
          "output_type": "stream",
          "name": "stdout",
          "text": [
            "[1, 5, 'Ana', 'Bia', ['C#', 'Python', 'Node'], 3.14]\n",
            "Bia\n",
            "['C#', 'Python', 'Node']\n",
            "Python\n",
            "h\n",
            "[1, 5, 'Ana', 'Bia', ['C#', 'Python', 'Node'], 3.14]\n",
            "[1, 'Ana', 'Bia', ['C#', 'Python', 'Node'], 3.14]\n",
            "[3.14, ['C#', 'Python', 'Node'], 'Bia', 'Ana', 1]\n",
            "[3.14, ['C#', 'Python', 'Node'], 'Ana', 1]\n"
          ]
        }
      ]
    },
    {
      "cell_type": "markdown",
      "source": [
        "## Exemplo de lista1"
      ],
      "metadata": {
        "id": "iOoXpiCHqk0K"
      }
    },
    {
      "cell_type": "code",
      "source": [
        "lista = [1, 5, 'Raquel', 'Guilherme', 3.1415, 'Guilherme']\n",
        "print(lista.index(5)) #retorna o indíce do elemento\n",
        "print(lista.index('Raquel'))\n",
        "print(lista.index('Guilherme')) #retornará o primeiro Guilherme da lista\n",
        "\n",
        "'Andre' in lista #pesquisar se esse elemento está na lista\n",
        "'Raquel' in lista \n",
        "\n",
        "lista.append('Andre')  #append é usado para adicionar um elemento no final (só adiciona um elemento por vez)\n",
        "print(lista)\n",
        "lista.insert(2, 'Ana') #insert é para adicionar no começo da lista (só adiciona um elemento por vez, então adicionará a Ana no indíce 2)\n",
        "print(lista)\n",
        "lista.insert(2, ['Metalica', 'Led', 'Ozy'])\n",
        "print(lista)\n"
      ],
      "metadata": {
        "colab": {
          "base_uri": "https://localhost:8080/"
        },
        "id": "4MVkQsnznlbU",
        "outputId": "ca98ceab-e80d-4bc1-8005-9c0aeec35238"
      },
      "execution_count": null,
      "outputs": [
        {
          "output_type": "stream",
          "name": "stdout",
          "text": [
            "1\n",
            "2\n",
            "3\n",
            "[1, 5, 'Raquel', 'Guilherme', 3.1415, 'Guilherme', 'Andre']\n",
            "[1, 5, 'Ana', 'Raquel', 'Guilherme', 3.1415, 'Guilherme', 'Andre']\n",
            "[1, 5, ['Metalica', 'Led', 'Ozy'], 'Ana', 'Raquel', 'Guilherme', 3.1415, 'Guilherme', 'Andre']\n"
          ]
        }
      ]
    },
    {
      "cell_type": "markdown",
      "source": [
        "## Exemplo de lista2"
      ],
      "metadata": {
        "id": "-PMKyi4iqdHu"
      }
    },
    {
      "cell_type": "code",
      "source": [
        "lista = ['Ana', 'Aline', 'Guilherme', 'Andre', 'Dani']\n",
        "print(lista[1:3])\n",
        "print(lista[1:-1])\n",
        "print(lista[1:])"
      ],
      "metadata": {
        "colab": {
          "base_uri": "https://localhost:8080/"
        },
        "id": "BVSv7Ma-p8R9",
        "outputId": "14f5ca09-f547-478b-b72c-77d881a77817"
      },
      "execution_count": null,
      "outputs": [
        {
          "output_type": "stream",
          "name": "stdout",
          "text": [
            "['Aline', 'Guilherme']\n",
            "['Aline', 'Guilherme', 'Andre']\n",
            "['Aline', 'Guilherme', 'Andre', 'Dani']\n"
          ]
        }
      ]
    },
    {
      "cell_type": "markdown",
      "source": [
        "# Tupla"
      ],
      "metadata": {
        "id": "rQCy5cxoqp0f"
      }
    },
    {
      "cell_type": "code",
      "source": [
        "tupla = ()\n",
        "type(tupla)\n",
        "\n",
        "cores = ('verde', 'amarelo', 'azul', 'branco')\n",
        "print(cores)\n",
        "print(cores[0])\n",
        "print(cores[-1])\n",
        "print(cores[1:])\n",
        "print(cores[-1:])\n",
        "\n",
        "#convertendo uma tupla em uma lista\n",
        "\n",
        "cores_list = list(cores)\n",
        "print(cores) #tupla\n",
        "print(cores_list) #lista"
      ],
      "metadata": {
        "colab": {
          "base_uri": "https://localhost:8080/"
        },
        "id": "v2x7xOlLqvSR",
        "outputId": "f18c49e2-cf04-4789-c8c6-c864339e0dc2"
      },
      "execution_count": null,
      "outputs": [
        {
          "output_type": "stream",
          "name": "stdout",
          "text": [
            "('verde', 'amarelo', 'azul', 'branco')\n",
            "verde\n",
            "branco\n",
            "('amarelo', 'azul', 'branco')\n",
            "('branco',)\n",
            "('verde', 'amarelo', 'azul', 'branco')\n",
            "['verde', 'amarelo', 'azul', 'branco']\n"
          ]
        }
      ]
    },
    {
      "cell_type": "markdown",
      "source": [
        "# Dicionário"
      ],
      "metadata": {
        "id": "zHKfaBml31el"
      }
    },
    {
      "cell_type": "code",
      "source": [
        "pessoa = {}\n",
        "print(type(pessoa))\n",
        "\n",
        "pessoa = {'nome': 'Andre', 'idade': 35, 'altura': 1.83}\n",
        "print(pessoa)\n",
        "print(pessoa['idade'])\n",
        "\n",
        "\n",
        "pessoa = {'nome': 'Andre', 'idade': 35, 'altura': 1.83, 'cursos': ['C#', 'Node', 'React', 'Python']}\n",
        "print(pessoa)\n",
        "print(pessoa['altura'])\n",
        "print(pessoa['cursos'])\n",
        "print(pessoa['cursos'][2])\n",
        "\n",
        "print(pessoa.keys()) #imprimir as chaves\n",
        "print(pessoa.values()) # imprmir os valores\n",
        "print(pessoa.items()) # imprimir os itens\n",
        "items = list(pessoa.items())\n",
        "print(items)\n",
        "print(type(items))\n",
        "print(items[3])\n",
        "print(type(items[3]))\n",
        "print(items[3][0])\n",
        "print(type(items[3][0]))\n",
        "print(items[3][1])\n",
        "print(type(items[3][1]))\n",
        "print(items[3][1][2])\n",
        "print(type(items[3][1][2]))\n",
        "print(items[3][1][2][4])\n",
        "print(type(items[3][1][2][4]))"
      ],
      "metadata": {
        "colab": {
          "base_uri": "https://localhost:8080/"
        },
        "id": "L1C4UbWr33yQ",
        "outputId": "1f9e39d6-e039-470b-be15-9f30dfcfa2e0"
      },
      "execution_count": null,
      "outputs": [
        {
          "output_type": "stream",
          "name": "stdout",
          "text": [
            "<class 'dict'>\n",
            "{'nome': 'Andre', 'idade': 35, 'altura': 1.83}\n",
            "35\n",
            "{'nome': 'Andre', 'idade': 35, 'altura': 1.83, 'cursos': ['C#', 'Node', 'React', 'Python']}\n",
            "1.83\n",
            "['C#', 'Node', 'React', 'Python']\n",
            "React\n",
            "dict_keys(['nome', 'idade', 'altura', 'cursos'])\n",
            "dict_values(['Andre', 35, 1.83, ['C#', 'Node', 'React', 'Python']])\n",
            "dict_items([('nome', 'Andre'), ('idade', 35), ('altura', 1.83), ('cursos', ['C#', 'Node', 'React', 'Python'])])\n",
            "[('nome', 'Andre'), ('idade', 35), ('altura', 1.83), ('cursos', ['C#', 'Node', 'React', 'Python'])]\n",
            "<class 'list'>\n",
            "('cursos', ['C#', 'Node', 'React', 'Python'])\n",
            "<class 'tuple'>\n",
            "cursos\n",
            "<class 'str'>\n",
            "['C#', 'Node', 'React', 'Python']\n",
            "<class 'list'>\n",
            "React\n",
            "<class 'str'>\n",
            "t\n",
            "<class 'str'>\n"
          ]
        }
      ]
    },
    {
      "cell_type": "code",
      "source": [
        "lista_pessoas = [{'nome': 'Andre', 'idade': 35, 'altura': 1.83},{'nome': 'Ana', 'idade': 22, 'altura': 1.57}, {'nome': 'João', 'idade': 39, 'altura': 1.78}, {'nome': 'Bia', 'idade': 27, 'altura': 1.63}]\n",
        "print(lista_pessoas[2])\n",
        "print(lista_pessoas[2]['idade'])\n",
        "\n",
        "#Dicionário dentro de listas\n",
        "\n",
        "pessoa1 = {'nome': 'Andre', 'idade': 35, 'altura': 1.83}\n",
        "pessoa1.update({'idade': 34, 'genero':'M'})\n",
        "print(pessoa1)"
      ],
      "metadata": {
        "colab": {
          "base_uri": "https://localhost:8080/"
        },
        "id": "9FFOUlNR7sZj",
        "outputId": "1c1b1001-447d-4b31-c285-d9e8a3a96baf"
      },
      "execution_count": null,
      "outputs": [
        {
          "output_type": "stream",
          "name": "stdout",
          "text": [
            "{'nome': 'João', 'idade': 39, 'altura': 1.78}\n",
            "39\n",
            "{'nome': 'Andre', 'idade': 34, 'altura': 1.83, 'genero': 'M'}\n"
          ]
        }
      ]
    },
    {
      "cell_type": "markdown",
      "source": [
        "# Input"
      ],
      "metadata": {
        "id": "fQg2iR2CAC1s"
      }
    },
    {
      "cell_type": "code",
      "source": [
        "a = int(input('Digite o valor: '))\n",
        "print(a)\n",
        "type(a)"
      ],
      "metadata": {
        "colab": {
          "base_uri": "https://localhost:8080/"
        },
        "id": "xX88F5f-A9iv",
        "outputId": "a38619e9-a3cb-4cb7-f424-19825bce9f9c"
      },
      "execution_count": null,
      "outputs": [
        {
          "output_type": "stream",
          "name": "stdout",
          "text": [
            "Digite o valor: 6\n",
            "6\n"
          ]
        },
        {
          "output_type": "execute_result",
          "data": {
            "text/plain": [
              "int"
            ]
          },
          "metadata": {},
          "execution_count": 36
        }
      ]
    },
    {
      "cell_type": "markdown",
      "source": [
        "# Estrtura de condição IF"
      ],
      "metadata": {
        "id": "dqICVVnXBY-e"
      }
    },
    {
      "cell_type": "code",
      "source": [
        "a = int(input('Digite o valor: '))\n",
        "b = int(input('Digite o valor: '))\n",
        "c = int(input('Digite o valor: '))\n",
        "\n",
        "resultado = 0 \n",
        "\n",
        "#se a > b E a > c então \n",
        "  #resultado = a\n",
        "#senão, se b > a E b > c então \n",
        "  #resultado = b\n",
        "#senão, se c > a E c > b então \n",
        "  #resultado = c\n",
        "\n",
        "if a > b and a > c:\n",
        "  resultado = a\n",
        "elif b > c and b > a:\n",
        "  resultado = b\n",
        "else:\n",
        "  resultado = c\n",
        "\n",
        "print(resultado)"
      ],
      "metadata": {
        "colab": {
          "base_uri": "https://localhost:8080/"
        },
        "id": "pZzvcBPABYpR",
        "outputId": "46c3e22f-be94-4467-8b84-eeffe2a9da91"
      },
      "execution_count": null,
      "outputs": [
        {
          "output_type": "stream",
          "name": "stdout",
          "text": [
            "Digite o valor: 3\n",
            "Digite o valor: 5\n",
            "Digite o valor: 9\n",
            "9\n"
          ]
        }
      ]
    },
    {
      "cell_type": "markdown",
      "source": [
        "# Loops de Repetição"
      ],
      "metadata": {
        "id": "0D-1pC0xn93z"
      }
    },
    {
      "cell_type": "code",
      "source": [
        "a = 10\n",
        "\n",
        "while a > 0:\n",
        "  print(a)\n",
        "  a = a - 1"
      ],
      "metadata": {
        "colab": {
          "base_uri": "https://localhost:8080/"
        },
        "id": "vUrTOSUXoJlN",
        "outputId": "3821b283-06f5-4aef-de3e-1ad5c2db3781"
      },
      "execution_count": null,
      "outputs": [
        {
          "output_type": "stream",
          "name": "stdout",
          "text": [
            "10\n",
            "9\n",
            "8\n",
            "7\n",
            "6\n",
            "5\n",
            "4\n",
            "3\n",
            "2\n",
            "1\n"
          ]
        }
      ]
    },
    {
      "cell_type": "code",
      "source": [
        "for x in range(1,11):\n",
        "  for y in range(1,11):\n",
        "    print(f' {x} * {y} = {x * y}')\n",
        "\n",
        "    #f significa que o código será formatado, sem o f é puramente uma strinf, com o f significa que você está pegando uma linha de código e a formatando\n",
        "    #a chave busca o valor da variável dentro do programa\n"
      ],
      "metadata": {
        "colab": {
          "base_uri": "https://localhost:8080/"
        },
        "id": "gPqUF0sOsUlp",
        "outputId": "816d17aa-adcf-4965-c155-142cfb8e8434"
      },
      "execution_count": null,
      "outputs": [
        {
          "output_type": "stream",
          "name": "stdout",
          "text": [
            " 1 * 1 = 1\n",
            " 1 * 2 = 2\n",
            " 1 * 3 = 3\n",
            " 1 * 4 = 4\n",
            " 1 * 5 = 5\n",
            " 1 * 6 = 6\n",
            " 1 * 7 = 7\n",
            " 1 * 8 = 8\n",
            " 1 * 9 = 9\n",
            " 1 * 10 = 10\n",
            " 2 * 1 = 2\n",
            " 2 * 2 = 4\n",
            " 2 * 3 = 6\n",
            " 2 * 4 = 8\n",
            " 2 * 5 = 10\n",
            " 2 * 6 = 12\n",
            " 2 * 7 = 14\n",
            " 2 * 8 = 16\n",
            " 2 * 9 = 18\n",
            " 2 * 10 = 20\n",
            " 3 * 1 = 3\n",
            " 3 * 2 = 6\n",
            " 3 * 3 = 9\n",
            " 3 * 4 = 12\n",
            " 3 * 5 = 15\n",
            " 3 * 6 = 18\n",
            " 3 * 7 = 21\n",
            " 3 * 8 = 24\n",
            " 3 * 9 = 27\n",
            " 3 * 10 = 30\n",
            " 4 * 1 = 4\n",
            " 4 * 2 = 8\n",
            " 4 * 3 = 12\n",
            " 4 * 4 = 16\n",
            " 4 * 5 = 20\n",
            " 4 * 6 = 24\n",
            " 4 * 7 = 28\n",
            " 4 * 8 = 32\n",
            " 4 * 9 = 36\n",
            " 4 * 10 = 40\n",
            " 5 * 1 = 5\n",
            " 5 * 2 = 10\n",
            " 5 * 3 = 15\n",
            " 5 * 4 = 20\n",
            " 5 * 5 = 25\n",
            " 5 * 6 = 30\n",
            " 5 * 7 = 35\n",
            " 5 * 8 = 40\n",
            " 5 * 9 = 45\n",
            " 5 * 10 = 50\n",
            " 6 * 1 = 6\n",
            " 6 * 2 = 12\n",
            " 6 * 3 = 18\n",
            " 6 * 4 = 24\n",
            " 6 * 5 = 30\n",
            " 6 * 6 = 36\n",
            " 6 * 7 = 42\n",
            " 6 * 8 = 48\n",
            " 6 * 9 = 54\n",
            " 6 * 10 = 60\n",
            " 7 * 1 = 7\n",
            " 7 * 2 = 14\n",
            " 7 * 3 = 21\n",
            " 7 * 4 = 28\n",
            " 7 * 5 = 35\n",
            " 7 * 6 = 42\n",
            " 7 * 7 = 49\n",
            " 7 * 8 = 56\n",
            " 7 * 9 = 63\n",
            " 7 * 10 = 70\n",
            " 8 * 1 = 8\n",
            " 8 * 2 = 16\n",
            " 8 * 3 = 24\n",
            " 8 * 4 = 32\n",
            " 8 * 5 = 40\n",
            " 8 * 6 = 48\n",
            " 8 * 7 = 56\n",
            " 8 * 8 = 64\n",
            " 8 * 9 = 72\n",
            " 8 * 10 = 80\n",
            " 9 * 1 = 9\n",
            " 9 * 2 = 18\n",
            " 9 * 3 = 27\n",
            " 9 * 4 = 36\n",
            " 9 * 5 = 45\n",
            " 9 * 6 = 54\n",
            " 9 * 7 = 63\n",
            " 9 * 8 = 72\n",
            " 9 * 9 = 81\n",
            " 9 * 10 = 90\n",
            " 10 * 1 = 10\n",
            " 10 * 2 = 20\n",
            " 10 * 3 = 30\n",
            " 10 * 4 = 40\n",
            " 10 * 5 = 50\n",
            " 10 * 6 = 60\n",
            " 10 * 7 = 70\n",
            " 10 * 8 = 80\n",
            " 10 * 9 = 90\n",
            " 10 * 10 = 100\n"
          ]
        }
      ]
    },
    {
      "cell_type": "markdown",
      "source": [
        "# Tudo junto"
      ],
      "metadata": {
        "id": "Pchndg1CuW_d"
      }
    },
    {
      "cell_type": "code",
      "source": [
        "dias_semana = ['Domingo', 'Segunda', 'Terça', 'Quarta', 'Quinta', 'Sexta', 'Sábado']\n",
        "\n",
        "for dia in dias_semana:\n",
        "  print(f' Hoje é {dias_semana} ')"
      ],
      "metadata": {
        "colab": {
          "base_uri": "https://localhost:8080/"
        },
        "id": "o8ZS7Mx7uazV",
        "outputId": "be17952c-51ee-4591-c2c4-93822e1ec5f1"
      },
      "execution_count": null,
      "outputs": [
        {
          "output_type": "stream",
          "name": "stdout",
          "text": [
            " Hoje é ['Domingo', 'Segunda', 'Terça', 'Quarta', 'Quinta', 'Sexta', 'Sábado'] \n",
            " Hoje é ['Domingo', 'Segunda', 'Terça', 'Quarta', 'Quinta', 'Sexta', 'Sábado'] \n",
            " Hoje é ['Domingo', 'Segunda', 'Terça', 'Quarta', 'Quinta', 'Sexta', 'Sábado'] \n",
            " Hoje é ['Domingo', 'Segunda', 'Terça', 'Quarta', 'Quinta', 'Sexta', 'Sábado'] \n",
            " Hoje é ['Domingo', 'Segunda', 'Terça', 'Quarta', 'Quinta', 'Sexta', 'Sábado'] \n",
            " Hoje é ['Domingo', 'Segunda', 'Terça', 'Quarta', 'Quinta', 'Sexta', 'Sábado'] \n",
            " Hoje é ['Domingo', 'Segunda', 'Terça', 'Quarta', 'Quinta', 'Sexta', 'Sábado'] \n"
          ]
        }
      ]
    },
    {
      "cell_type": "code",
      "source": [
        "lista_pessoas = [{'id':1, 'nome': 'Andre', 'idade':30, 'altura':1.83, 'cursos':['C#', 'Python', 'Node']}, \n",
        "                  {'id':2, 'nome': 'Ana', 'idade':25, 'altura':1.6, 'cursos':['C#', 'Python', 'Node', 'C++']}, \n",
        "                  {'id':3, 'nome': 'Bia', 'idade':23, 'altura':1.7, 'cursos':['Python', 'Node']}, \n",
        "                  {'id':4, 'nome': 'Guilherme', 'idade':34, 'altura':1.8, 'cursos':['C#', 'Java', 'React']}]\n",
        "\n",
        "for pessoa in lista_pessoas: #atribuindo a variável pessoa a cada linha de dicionário\n",
        "  for curso in pessoa['cursos']:\n",
        "    nome = pessoa['nome']\n",
        "    print(f' A pessoa {nome} faz o {curso}')\n",
        "\n",
        "\n",
        "#cada elemento da lista ele entende como um dicionário e dentro de cada dicionário tem uma lista"
      ],
      "metadata": {
        "colab": {
          "base_uri": "https://localhost:8080/"
        },
        "id": "KD1PyDkUvD-0",
        "outputId": "7d5c2fd0-eb5d-40f4-bebd-b4cff8acb5e2"
      },
      "execution_count": null,
      "outputs": [
        {
          "output_type": "stream",
          "name": "stdout",
          "text": [
            " A pessoa Andre faz o C#\n",
            " A pessoa Andre faz o Python\n",
            " A pessoa Andre faz o Node\n",
            " A pessoa Ana faz o C#\n",
            " A pessoa Ana faz o Python\n",
            " A pessoa Ana faz o Node\n",
            " A pessoa Ana faz o C++\n",
            " A pessoa Bia faz o Python\n",
            " A pessoa Bia faz o Node\n",
            " A pessoa Guilherme faz o C#\n",
            " A pessoa Guilherme faz o Java\n",
            " A pessoa Guilherme faz o React\n"
          ]
        }
      ]
    }
  ]
}